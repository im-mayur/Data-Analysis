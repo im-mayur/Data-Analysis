{
 "cells": [
  {
   "cell_type": "markdown",
   "id": "63d99b88-bb23-479e-b611-d81999d45ad9",
   "metadata": {},
   "source": [
    "## NumPy\n",
    "NumPy is a fundamental library for scientific computing in Python. It provides support for arrays and matrices, along with a collection of mathematical functions to operate on these data structures. In this lesson, we will cover the basics of NumPy, focusing on arrays and vectorized operations.\n",
    "\n"
   ]
  },
  {
   "cell_type": "code",
   "execution_count": 6,
   "id": "3f5b035c-980a-4cb1-8cf6-de4b93c91569",
   "metadata": {},
   "outputs": [],
   "source": [
    "# import \n",
    "import numpy as np"
   ]
  },
  {
   "cell_type": "markdown",
   "id": "6c8df19d-1c63-40f3-9cf8-b6de1e1ae244",
   "metadata": {},
   "source": [
    "### Creating array using numpy"
   ]
  },
  {
   "cell_type": "code",
   "execution_count": 13,
   "id": "4fe8677b-00a9-4ac0-9ec5-2f2266b5f8a2",
   "metadata": {},
   "outputs": [
    {
     "name": "stdout",
     "output_type": "stream",
     "text": [
      "[1 2 3 4 5]\n",
      "<class 'numpy.ndarray'>\n",
      "(5,)\n"
     ]
    }
   ],
   "source": [
    "# creating 1D array\n",
    "\n",
    "arr1 = np.array([1,2,3,4,5])\n",
    "print(arr1)\n",
    "print(type(arr1))\n",
    "print(arr1.shape)"
   ]
  },
  {
   "cell_type": "code",
   "execution_count": 29,
   "id": "b624197a-bac4-459e-add9-45bbfce0ad21",
   "metadata": {},
   "outputs": [
    {
     "name": "stdout",
     "output_type": "stream",
     "text": [
      "[[1 2 3 4 5]]\n",
      "(5,)\n",
      "[[1 2 3 4 5]]\n",
      "(1, 5)\n"
     ]
    }
   ],
   "source": [
    "# reshaping array\n",
    "arr2=np.array([1,2,3,4,5])\n",
    "print(arr2.reshape(1,5))\n",
    "print(arr2.shape)\n",
    "\n",
    "reshaped = arr2.reshape(1, 5)\n",
    "print(reshaped)  \n",
    "print(reshaped.shape)  \n",
    "\n",
    "# arr1 and arr2 are initially created as 1D arrays, and their shape is (5,).\n",
    "# When you reshape arr2 to (1, 5) and check the shape of arr2, it still remains (5,) \n",
    "# because the reshape operation does not modify the original array—it returns a new array with the specified shape."
   ]
  },
  {
   "cell_type": "code",
   "execution_count": 33,
   "id": "59342565-2c99-49e1-a180-20ff20ee0576",
   "metadata": {},
   "outputs": [
    {
     "name": "stdout",
     "output_type": "stream",
     "text": [
      "[[1 2 3 4 5]\n",
      " [6 7 8 9 3]]\n",
      "(2, 5)\n"
     ]
    }
   ],
   "source": [
    "# creating 2D array\n",
    "arr2 = np.array([[1,2,3,4,5],[6,7,8,9,3]])\n",
    "print(arr2)\n",
    "print(arr2.shape) # (2 rows 5 columns)"
   ]
  },
  {
   "cell_type": "markdown",
   "id": "9a6abfbe-f366-4cfc-90f6-92f65cde255b",
   "metadata": {},
   "source": [
    "## arrays with inbuilt functions"
   ]
  },
  {
   "cell_type": "code",
   "execution_count": 40,
   "id": "6efd165d-9401-43d1-9efd-d4cbb54dfd9b",
   "metadata": {},
   "outputs": [
    {
     "data": {
      "text/plain": [
       "array([0, 2, 4, 6, 8])"
      ]
     },
     "execution_count": 40,
     "metadata": {},
     "output_type": "execute_result"
    }
   ],
   "source": [
    "np.arange(0,10,2) #Return evenly spaced values within a given interval."
   ]
  },
  {
   "cell_type": "code",
   "execution_count": 46,
   "id": "3ddf869c-8117-45f3-99a1-b5cf1167d44e",
   "metadata": {},
   "outputs": [
    {
     "data": {
      "text/plain": [
       "array([[1., 1., 1., 1.],\n",
       "       [1., 1., 1., 1.],\n",
       "       [1., 1., 1., 1.]])"
      ]
     },
     "execution_count": 46,
     "metadata": {},
     "output_type": "execute_result"
    }
   ],
   "source": [
    "np.ones((3,4))  #return a new array of given shape and type, filled with ones."
   ]
  },
  {
   "cell_type": "code",
   "execution_count": 48,
   "id": "5be7e887-f04f-487f-af84-a1beab53c9d6",
   "metadata": {},
   "outputs": [
    {
     "data": {
      "text/plain": [
       "array([[1., 0., 0.],\n",
       "       [0., 1., 0.],\n",
       "       [0., 0., 1.]])"
      ]
     },
     "execution_count": 48,
     "metadata": {},
     "output_type": "execute_result"
    }
   ],
   "source": [
    "np.eye(3)"
   ]
  },
  {
   "cell_type": "code",
   "execution_count": 50,
   "id": "4adbeed1-eb6b-48a5-9161-9de39d79e7b9",
   "metadata": {},
   "outputs": [
    {
     "name": "stdout",
     "output_type": "stream",
     "text": [
      "Array:\n",
      " [[1 2 3]\n",
      " [4 5 6]]\n",
      "Shape: (2, 3)\n",
      "Number of dimensions: 2\n",
      "Size (number of elements): 6\n",
      "Data type: int64\n",
      "Item size (in bytes): 8\n"
     ]
    }
   ],
   "source": [
    "## Attributes of nummpy array\n",
    "\n",
    "arr = np.array([[1, 2, 3], [4, 5, 6]])\n",
    "\n",
    "print(\"Array:\\n\", arr)\n",
    "print(\"Shape:\", arr.shape)  # Output: (2, 3)\n",
    "print(\"Number of dimensions:\", arr.ndim)  # Output: 2\n",
    "print(\"Size (number of elements):\", arr.size)  # Output: 6\n",
    "print(\"Data type:\", arr.dtype)  # Output: int32 (may vary based on platform)\n",
    "print(\"Item size (in bytes):\", arr.itemsize)  # Output: 8 (may vary based on platform)"
   ]
  },
  {
   "cell_type": "code",
   "execution_count": 52,
   "id": "4d3e610b-32fc-4e15-8a95-4e52924e2e98",
   "metadata": {},
   "outputs": [
    {
     "name": "stdout",
     "output_type": "stream",
     "text": [
      "Addition: [11 22 33 44 55]\n",
      "Substraction: [ -9 -18 -27 -36 -45]\n",
      "Multiplication: [ 10  40  90 160 250]\n",
      "Division: [0.1 0.1 0.1 0.1 0.1]\n"
     ]
    }
   ],
   "source": [
    "### numpy vectorized operation\n",
    "\n",
    "arr1=np.array([1,2,3,4,5])\n",
    "arr2=np.array([10,20,30,40,50])\n",
    "\n",
    "### Element Wise addition\n",
    "print(\"Addition:\", arr1+arr2)\n",
    "\n",
    "## Element Wise Substraction\n",
    "print(\"Substraction:\", arr1-arr2)\n",
    "\n",
    "# Element-wise multiplication\n",
    "print(\"Multiplication:\", arr1 * arr2)\n",
    "\n",
    "# Element-wise division\n",
    "print(\"Division:\", arr1 / arr2)"
   ]
  },
  {
   "cell_type": "code",
   "execution_count": 56,
   "id": "ffa554df-6594-40b4-9c3c-559e67f69f29",
   "metadata": {},
   "outputs": [
    {
     "name": "stdout",
     "output_type": "stream",
     "text": [
      "[1.41421356 1.73205081 2.         2.23606798 2.44948974]\n",
      "[  7.3890561   20.08553692  54.59815003 148.4131591  403.42879349]\n",
      "[ 0.90929743  0.14112001 -0.7568025  -0.95892427 -0.2794155 ]\n",
      "[0.69314718 1.09861229 1.38629436 1.60943791 1.79175947]\n"
     ]
    }
   ],
   "source": [
    " ## universal function\n",
    "\n",
    "arr=np.array([2,3,4,5,6])\n",
    "# square root\n",
    "print(np.sqrt(arr))\n",
    "\n",
    "# exponential\n",
    "print(np.exp(arr))\n",
    "\n",
    "##sine\n",
    "print(np.sin(arr))\n",
    "\n",
    "## natural log\n",
    "print(np.log(arr))"
   ]
  },
  {
   "cell_type": "markdown",
   "id": "91812cfe-ac2a-451f-aa3f-2f9cc3a43190",
   "metadata": {},
   "source": [
    "## array slicing and indexing"
   ]
  },
  {
   "cell_type": "code",
   "execution_count": 125,
   "id": "cd68d182-8e9e-4330-ab85-12d4d35247b3",
   "metadata": {},
   "outputs": [
    {
     "name": "stdout",
     "output_type": "stream",
     "text": [
      "array:\n",
      " [[ 1  2  3  4  5]\n",
      " [ 6  7  8  9 10]\n",
      " [ 4  6  7  5  8]]\n"
     ]
    }
   ],
   "source": [
    "arr = np.array([[1,2,3,4,5], [6,7,8,9,10], [4,6,7,5,8]])\n",
    "print(\"array:\\n\",arr)"
   ]
  },
  {
   "cell_type": "code",
   "execution_count": 65,
   "id": "a67ce7fa-9a0e-42ef-a515-f7d3f782e372",
   "metadata": {},
   "outputs": [
    {
     "data": {
      "text/plain": [
       "8"
      ]
     },
     "execution_count": 65,
     "metadata": {},
     "output_type": "execute_result"
    }
   ],
   "source": [
    "#print element from 2nd row 3rd columna\n",
    "arr[1][2]"
   ]
  },
  {
   "cell_type": "code",
   "execution_count": 83,
   "id": "92d30f71-22d2-4810-8567-7197b9d2ff21",
   "metadata": {},
   "outputs": [
    {
     "data": {
      "text/plain": [
       "8"
      ]
     },
     "execution_count": 83,
     "metadata": {},
     "output_type": "execute_result"
    }
   ],
   "source": [
    "arr[1,1:][1,] #arr[1,1:] results in a 1D array: [7, 8, 9, 10] ; \n",
    "             #Since arr[1,1:] is now a 1D array, the [1,] index simply selects the second element (at index 1) of this array."
   ]
  },
  {
   "cell_type": "code",
   "execution_count": 97,
   "id": "99c59e35-69a0-4e62-9f6c-7a617b50bb61",
   "metadata": {},
   "outputs": [
    {
     "data": {
      "text/plain": [
       "array([[6, 7, 8],\n",
       "       [4, 6, 7]])"
      ]
     },
     "execution_count": 97,
     "metadata": {},
     "output_type": "execute_result"
    }
   ],
   "source": [
    "#Row slicing (1:): Selects rows from index 1 onwards.\n",
    "#Column slicing (:3): Selects the first three columns of the selected rows.\n",
    "arr[1:,:3] "
   ]
  },
  {
   "cell_type": "code",
   "execution_count": 117,
   "id": "ca3a23d9-be5b-4f83-8b42-fe918e1451ba",
   "metadata": {},
   "outputs": [
    {
     "data": {
      "text/plain": [
       "array([[ 4,  5],\n",
       "       [ 9, 10]])"
      ]
     },
     "execution_count": 117,
     "metadata": {},
     "output_type": "execute_result"
    }
   ],
   "source": [
    "#Row slicing (0:2): Selects rows from index 0 to 2 (excluding 2).\n",
    "#Column slicing (-2:): Selects the last two columns of the selected rows.\n",
    "arr[0:2,-2:]"
   ]
  },
  {
   "cell_type": "code",
   "execution_count": 127,
   "id": "3699a2a8-e1b1-4d83-a905-0cafcb9fc4ba",
   "metadata": {},
   "outputs": [
    {
     "data": {
      "text/plain": [
       "array([[  1,   2,   3,   4,   5],\n",
       "       [100, 100, 100,   9,  10],\n",
       "       [100, 100, 100,   5,   8]])"
      ]
     },
     "execution_count": 127,
     "metadata": {},
     "output_type": "execute_result"
    }
   ],
   "source": [
    "## modify the array \n",
    "arr[1:,0:3]=100\n",
    "arr"
   ]
  },
  {
   "cell_type": "markdown",
   "id": "c05af87c-51d5-4d44-9cfd-24cc6a5f9a8a",
   "metadata": {},
   "source": [
    "## statistical concepts"
   ]
  },
  {
   "cell_type": "code",
   "execution_count": 134,
   "id": "fec83726-35d9-4e30-a583-d7a880ce4f96",
   "metadata": {},
   "outputs": [
    {
     "name": "stdout",
     "output_type": "stream",
     "text": [
      "[[-1.87082869 -1.46993683 -1.06904497 -0.6681531  -0.26726124]\n",
      " [ 0.13363062  0.53452248  0.93541435  1.33630621  1.73719807]\n",
      " [-0.6681531   0.13363062  0.53452248 -0.26726124  0.93541435]]\n",
      "Mean: 5.666666666666667\n",
      "Median: 6.0\n",
      "Standard Deviation: 2.4944382578492945\n",
      "Variance: 6.222222222222223\n"
     ]
    }
   ],
   "source": [
    "data = np.array([[1,2,3,4,5], [6,7,8,9,10], [4,6,7,5,8]])\n",
    "\n",
    "mean = np.mean(data)\n",
    "std_dev = np.std(data)\n",
    "\n",
    "# normalise the data\n",
    "normalised_data= (data-mean)/std_dev\n",
    "print(normalised_data)\n",
    "\n",
    "# data = np.array([1, 2, 3, 4, 5, 6, 7, 8, 9, 10])\n",
    "\n",
    "# Mean\n",
    "mean = np.mean(data)\n",
    "print(\"Mean:\", mean)\n",
    "\n",
    "# Median\n",
    "median = np.median(data)\n",
    "print(\"Median:\", median)\n",
    "\n",
    "# Standard deviation\n",
    "std_dev = np.std(data)\n",
    "print(\"Standard Deviation:\", std_dev)\n",
    "\n",
    "# Variance\n",
    "variance = np.var(data)\n",
    "print(\"Variance:\", variance)"
   ]
  }
 ],
 "metadata": {
  "kernelspec": {
   "display_name": "Python [conda env:base] *",
   "language": "python",
   "name": "conda-base-py"
  },
  "language_info": {
   "codemirror_mode": {
    "name": "ipython",
    "version": 3
   },
   "file_extension": ".py",
   "mimetype": "text/x-python",
   "name": "python",
   "nbconvert_exporter": "python",
   "pygments_lexer": "ipython3",
   "version": "3.12.7"
  }
 },
 "nbformat": 4,
 "nbformat_minor": 5
}
